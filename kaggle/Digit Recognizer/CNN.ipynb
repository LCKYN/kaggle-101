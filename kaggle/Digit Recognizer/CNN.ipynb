{
 "cells": [
  {
   "cell_type": "code",
   "execution_count": 31,
   "metadata": {},
   "outputs": [],
   "source": [
    "from IPython import display\n",
    "\n",
    "import pandas as pd\n",
    "import matplotlib.pyplot as plt\n",
    "import numpy as np\n",
    "import PIL\n",
    "import tensorflow as tf\n",
    "from tensorflow.keras import datasets, layers, models, Model, losses\n",
    "from sklearn.metrics import accuracy_score"
   ]
  },
  {
   "cell_type": "code",
   "execution_count": 82,
   "metadata": {},
   "outputs": [],
   "source": [
    "df_train = pd.read_csv('data/train.csv')  \n",
    "lable_train = np.array(df_train.iloc()[:,0]).reshape((42000))\n",
    "data_train = np.array(df_train.iloc()[:,1:]).reshape((42000,28,28,1))\n",
    "\n",
    "df_test = pd.read_csv('data/test.csv')  \n",
    "data_test = np.array(df_test.iloc()[:,:])"
   ]
  },
  {
   "cell_type": "code",
   "execution_count": 83,
   "metadata": {},
   "outputs": [
    {
     "data": {
      "text/plain": [
       "(42000, 10)"
      ]
     },
     "execution_count": 83,
     "metadata": {},
     "output_type": "execute_result"
    }
   ],
   "source": [
    "lable_train.shape\n",
    "temp = np.repeat(np.zeros(10), 42000, axis=0).astype(int).reshape(42000,10)\n",
    "temp[np.arange(42000),lable_train] = 1 \n",
    "lable_train =  temp\n",
    "lable_train.shape"
   ]
  },
  {
   "cell_type": "code",
   "execution_count": 84,
   "metadata": {},
   "outputs": [
    {
     "data": {
      "text/plain": [
       "(42000, 28, 28, 1)"
      ]
     },
     "execution_count": 84,
     "metadata": {},
     "output_type": "execute_result"
    }
   ],
   "source": [
    "data_train.shape"
   ]
  },
  {
   "cell_type": "code",
   "execution_count": 85,
   "metadata": {},
   "outputs": [
    {
     "data": {
      "text/plain": [
       "(28000, 784)"
      ]
     },
     "execution_count": 85,
     "metadata": {},
     "output_type": "execute_result"
    }
   ],
   "source": [
    "data_test.shape"
   ]
  },
  {
   "cell_type": "code",
   "execution_count": 86,
   "metadata": {},
   "outputs": [],
   "source": [
    "data_test = data_test.reshape((28000,28,28,1))"
   ]
  },
  {
   "cell_type": "code",
   "execution_count": 70,
   "metadata": {},
   "outputs": [],
   "source": [
    "class CNN(Model):\n",
    "    def __init__(self):\n",
    "        super(CNN, self).__init__()\n",
    "        self.CNN_ = tf.keras.Sequential([\n",
    "            layers.Input(shape=(28,28,1)),\n",
    "            \n",
    "            layers.Conv2D(32, (5,5), padding=\"same\", activation='relu'),\n",
    "            layers.MaxPooling2D(pool_size=(3,3)),\n",
    "            \n",
    "            layers.Conv2D(64, (5,5), padding=\"same\", activation='relu'),\n",
    "            layers.MaxPooling2D(pool_size=(3,3)),\n",
    "            \n",
    "            layers.Conv2D(128, (5,5), padding=\"same\", activation='relu'),\n",
    "            layers.MaxPooling2D(pool_size=(3,3)),\n",
    "                        \n",
    "            layers.Flatten(),\n",
    "            layers.Dense(100),\n",
    "            layers.Dense(10, activation='linear')\n",
    "        ])\n",
    "        \n",
    "\n",
    "    def call(self, x):\n",
    "        output = self.CNN_(x)\n",
    "        return output\n"
   ]
  },
  {
   "cell_type": "code",
   "execution_count": 71,
   "metadata": {},
   "outputs": [
    {
     "name": "stdout",
     "output_type": "stream",
     "text": [
      "Epoch 1/10\n",
      "1313/1313 [==============================] - 23s 17ms/step - loss: 14.6366\n",
      "Epoch 2/10\n",
      "1313/1313 [==============================] - 24s 18ms/step - loss: 0.0351\n",
      "Epoch 3/10\n",
      "1313/1313 [==============================] - 25s 19ms/step - loss: 0.0245\n",
      "Epoch 4/10\n",
      "1313/1313 [==============================] - 26s 20ms/step - loss: 0.0184\n",
      "Epoch 5/10\n",
      "1313/1313 [==============================] - 26s 20ms/step - loss: 0.0144\n",
      "Epoch 6/10\n",
      "1313/1313 [==============================] - 28s 22ms/step - loss: 0.0114\n",
      "Epoch 7/10\n",
      "1313/1313 [==============================] - 26s 19ms/step - loss: 0.0097\n",
      "Epoch 8/10\n",
      "1313/1313 [==============================] - 24s 18ms/step - loss: 0.0085\n",
      "Epoch 9/10\n",
      "1313/1313 [==============================] - 30s 23ms/step - loss: 0.0076\n",
      "Epoch 10/10\n",
      "1313/1313 [==============================] - 25s 19ms/step - loss: 0.0067\n"
     ]
    },
    {
     "data": {
      "text/plain": [
       "<tensorflow.python.keras.callbacks.History at 0x7f9d7296c3a0>"
      ]
     },
     "execution_count": 71,
     "metadata": {},
     "output_type": "execute_result"
    }
   ],
   "source": [
    "modelCNN = CNN()\n",
    "modelCNN.compile(optimizer='adam', loss=losses.MeanSquaredError())\n",
    "modelCNN.fit(data_train, lable_train,epochs=10)\n"
   ]
  },
  {
   "cell_type": "code",
   "execution_count": 87,
   "metadata": {},
   "outputs": [],
   "source": [
    "result_train = modelCNN.CNN_(data_train)\n",
    "result_test = modelCNN.CNN_(data_test)"
   ]
  },
  {
   "cell_type": "code",
   "execution_count": 73,
   "metadata": {},
   "outputs": [
    {
     "data": {
      "text/plain": [
       "array([1, 0, 1, ..., 7, 6, 9])"
      ]
     },
     "execution_count": 73,
     "metadata": {},
     "output_type": "execute_result"
    }
   ],
   "source": [
    "np.argmax(result_train, axis=1)"
   ]
  },
  {
   "cell_type": "code",
   "execution_count": 88,
   "metadata": {},
   "outputs": [
    {
     "data": {
      "text/plain": [
       "array([2, 0, 9, ..., 3, 9, 2])"
      ]
     },
     "execution_count": 88,
     "metadata": {},
     "output_type": "execute_result"
    }
   ],
   "source": [
    "np.argmax(result_test, axis=1)"
   ]
  },
  {
   "cell_type": "code",
   "execution_count": 92,
   "metadata": {},
   "outputs": [],
   "source": [
    "submission = pd.read_csv('data/sample_submission.csv')  "
   ]
  },
  {
   "cell_type": "code",
   "execution_count": 93,
   "metadata": {},
   "outputs": [],
   "source": [
    "submission[\"Label\"] = np.argmax(result_test, axis=1)"
   ]
  },
  {
   "cell_type": "code",
   "execution_count": 97,
   "metadata": {},
   "outputs": [],
   "source": [
    "submission.to_csv(\"submission/submission1.csv\", index=False)"
   ]
  },
  {
   "cell_type": "markdown",
   "metadata": {},
   "source": [
    "# Score : 0.97467"
   ]
  },
  {
   "cell_type": "code",
   "execution_count": null,
   "metadata": {},
   "outputs": [],
   "source": []
  }
 ],
 "metadata": {
  "kernelspec": {
   "display_name": "Python 3",
   "language": "python",
   "name": "python3"
  },
  "language_info": {
   "codemirror_mode": {
    "name": "ipython",
    "version": 3
   },
   "file_extension": ".py",
   "mimetype": "text/x-python",
   "name": "python",
   "nbconvert_exporter": "python",
   "pygments_lexer": "ipython3",
   "version": "3.8.5"
  }
 },
 "nbformat": 4,
 "nbformat_minor": 4
}
